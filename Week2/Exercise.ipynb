{
 "cells": [
  {
   "cell_type": "markdown",
   "metadata": {},
   "source": [
    "1. First, build a code for a perceptron(i.e. a single neuron and no hidden layers) and build a AND gate using it.\n",
    "2. Now, try to build a XOR gate using a perceptron and share your results with us.\n",
    "3. Implement a XOR gate again, this time you can use a single hidden layer.\n",
    "4. Build a full adder using the perceptron you have built\n",
    "5. Combine the adders into a ripple carry adder"
   ]
  },
  {
   "cell_type": "code",
   "execution_count": null,
   "metadata": {},
   "outputs": [],
   "source": [
    "import numpy as np"
   ]
  },
  {
   "cell_type": "code",
   "execution_count": null,
   "metadata": {},
   "outputs": [],
   "source": [
    "def perceptron(x, w ,b ,threshold) :\n",
    "    y = x@w + b\n",
    "    # y > threshold for activation\n",
    "    # Bias to be shifted so that threshold = 0 for all\n",
    "    if(y > threshold): return 1\n",
    "    else: return 0"
   ]
  },
  {
   "cell_type": "code",
   "execution_count": null,
   "metadata": {},
   "outputs": [],
   "source": [
    "def AND_gate(x) :\n",
    "    w = np.ones(len(x))\n",
    "    b = -len(x) + 1\n",
    "    threshold = 0\n",
    "    \n",
    "    return perceptron(x, w, b, threshold)\n",
    "\n",
    "def OR_gate(x) :\n",
    "    w = np.ones(len(x))\n",
    "    b = 0\n",
    "    threshold = 0\n",
    "    \n",
    "    return perceptron(x, w, b, threshold)\n",
    "\n",
    "\n",
    "def XOR_gate(x1, x2) :\n",
    "    # x1 * x2 ' + x2 * x1 ' = x1 * (1 - x2) + x2 * (1 - x1)\n",
    "    # not linearly separable\n",
    "    # We need 1 hidden Layer\n",
    "    h1 = OR_gate(x1, x2)\n",
    "    h2 = AND_gate(x1, x2)\n",
    "\n",
    "    return AND_gate(h1, 1 - h2)"
   ]
  }
 ],
 "metadata": {
  "kernelspec": {
   "display_name": "Python 3",
   "language": "python",
   "name": "python3"
  },
  "language_info": {
   "codemirror_mode": {
    "name": "ipython",
    "version": 3
   },
   "file_extension": ".py",
   "mimetype": "text/x-python",
   "name": "python",
   "nbconvert_exporter": "python",
   "pygments_lexer": "ipython3",
   "version": "3.12.3"
  }
 },
 "nbformat": 4,
 "nbformat_minor": 2
}

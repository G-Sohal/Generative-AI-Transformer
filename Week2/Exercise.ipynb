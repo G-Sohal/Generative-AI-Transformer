{
 "cells": [
  {
   "cell_type": "markdown",
   "metadata": {},
   "source": [
    "1. First, build a code for a perceptron(i.e. a single neuron and no hidden layers) and build a AND gate using it.\n",
    "2. Now, try to build a XOR gate using a perceptron and share your results with us.\n",
    "3. Implement a XOR gate again, this time you can use a single hidden layer.\n",
    "4. Build a full adder using the perceptron you have built\n",
    "5. Combine the adders into a ripple carry adder\n",
    "\n",
    "IMPortant: Do not use scikit learn or keras or any other libraries. Implement the codes from scratch using numpy.\n",
    "Implement seperate functions such as initialization, forward propagation, cost calculation and back propagation and then compile all of it in a class/function and test your neural net."
   ]
  },
  {
   "cell_type": "code",
   "execution_count": null,
   "metadata": {},
   "outputs": [],
   "source": [
    "import numpy as np"
   ]
  },
  {
   "cell_type": "code",
   "execution_count": null,
   "metadata": {},
   "outputs": [],
   "source": [
    "def perceptron(x, w, b, threshold = 0.5) :\n",
    "    y = np.dot(np.transpose(w),x) + b\n",
    "    a = np.sigmoid(y)\n",
    "    if(a > threshold): return 1\n",
    "    else: return 0"
   ]
  },
  {
   "cell_type": "code",
   "execution_count": null,
   "metadata": {},
   "outputs": [],
   "source": [
    "# x is a column vector\n",
    "def AND_gate(x) :\n",
    "    w = np.ones(len(x))\n",
    "    b = -len(x) + 1\n",
    "    \n",
    "    return perceptron(x, w, b)\n",
    "\n",
    "def OR_gate(x) :\n",
    "    w = np.ones(len(x))\n",
    "    b = 0\n",
    "    \n",
    "    return perceptron(x, w, b)\n",
    "\n",
    "\n",
    "def XOR_gate(x1, x2) :\n",
    "    # x1 * x2 ' + x2 * x1 ' = x1 * (1 - x2) + x2 * (1 - x1)\n",
    "    # This is not linearly separable\n",
    "    # We need 1 hidden Layer\n",
    "    h1 = OR_gate(x1, x2)\n",
    "    h2 = AND_gate(x1, x2)\n",
    "\n",
    "    return AND_gate(h1, 1 - h2)"
   ]
  },
  {
   "cell_type": "code",
   "execution_count": null,
   "metadata": {},
   "outputs": [],
   "source": [
    "def full_adder(a, b, c = 0) : # c = 0 since c0 = 0 in ripple carry adder\n",
    "    c_in = c\n",
    "    sum = XOR_gate(XOR_gate(a,b), c_in)\n",
    "    # c_out = 1 (10 or 11)\n",
    "    # We need >0 products (AND) of 2 to be 1\n",
    "    # So we use OR across the 3\n",
    "    c_out = OR_gate(OR_gate(AND_gate(a, b) , AND_gate(b, c_in)) , AND_gate(a, c_in)) \n",
    "    \n",
    "    return sum, c_out"
   ]
  },
  {
   "cell_type": "code",
   "execution_count": null,
   "metadata": {},
   "outputs": [],
   "source": [
    "def ripple_carry_adder(a, b) : # Here, a = [a0, a1, a2, ...] & b = [b0, b1, ...] \n",
    "    assert len(a) == len(b)\n",
    "\n",
    "    s = np.zeros(len(a), dtype = int)\n",
    "    c = np.zeros(len(a) + 1, dtype = int)\n",
    "\n",
    "    for i in range(len(a)):\n",
    "        sum, c_out = full_adder(a[i], b[i], c[i])\n",
    "        s[i] = sum\n",
    "        c[i+1] = c_out\n",
    "    \n",
    "    return s, c[-1]"
   ]
  },
  {
   "cell_type": "code",
   "execution_count": null,
   "metadata": {},
   "outputs": [],
   "source": [
    "def cost_calculation(y_hat, y):\n",
    "    m = len(y)\n",
    "    cost = (1/(2*m))*(np.sum((y_hat - y)**2))\n",
    "    return cost"
   ]
  }
 ],
 "metadata": {
  "kernelspec": {
   "display_name": "Python 3",
   "language": "python",
   "name": "python3"
  },
  "language_info": {
   "codemirror_mode": {
    "name": "ipython",
    "version": 3
   },
   "file_extension": ".py",
   "mimetype": "text/x-python",
   "name": "python",
   "nbconvert_exporter": "python",
   "pygments_lexer": "ipython3",
   "version": "3.12.3"
  }
 },
 "nbformat": 4,
 "nbformat_minor": 2
}
